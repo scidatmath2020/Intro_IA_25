{
 "cells": [
  {
   "cell_type": "code",
   "execution_count": null,
   "id": "9d7845da",
   "metadata": {},
   "outputs": [],
   "source": [
    "import pandas as pd\n",
    "import numpy as np\n",
    "from sklearn.datasets import load_wine\n",
    "from sklearn.model_selection import train_test_split\n",
    "from sklearn.preprocessing import StandardScaler\n",
    "from sklearn.decomposition import PCA\n",
    "from sklearn.ensemble import RandomForestClassifier\n",
    "from sklearn.metrics import classification_report\n",
    "import matplotlib.pyplot as plt\n",
    "import plotly.express as px"
   ]
  },
  {
   "cell_type": "code",
   "execution_count": null,
   "id": "99e4d35e",
   "metadata": {},
   "outputs": [],
   "source": [
    "# 1. Cargar dataset\n",
    "data = pd.read_csv(\"breast_cancer_dataset.csv\")\n",
    "data"
   ]
  },
  {
   "cell_type": "code",
   "execution_count": null,
   "id": "d998823f",
   "metadata": {},
   "outputs": [],
   "source": [
    "clase = \"target\" #columna objetivo\n",
    "X = data.drop(clase, axis=1)\n",
    "y = data[clase]\n",
    "# 2. Estandarizar\n",
    "scaler = StandardScaler()\n",
    "X_scaled = scaler.fit_transform(X)"
   ]
  },
  {
   "cell_type": "code",
   "execution_count": null,
   "id": "c70ff5d4",
   "metadata": {},
   "outputs": [],
   "source": [
    "# Aplicar PCA con el número máximo de componentes \n",
    "pca_full = PCA()\n",
    "pca_full.fit(X_scaled)\n",
    "percentage_var = 0.95\n",
    "\n",
    "# Obtener varianza explicada acumulada\n",
    "\n",
    "var_acumulada = np.cumsum(pca_full.explained_variance_ratio_)\n",
    "plt.figure(figsize=(8,5))\n",
    "plt.plot(range(1, len(var_acumulada)+1), var_acumulada, marker='o')\n",
    "plt.axhline(y=percentage_var, color='r', linestyle='--', label='95% de varianza')\n",
    "plt.xlabel('Número de componentes')\n",
    "plt.ylabel('Varianza explicada acumulada')\n",
    "plt.title('Selección del número de componentes en PCA')\n",
    "plt.xticks(range(1, X.shape[1]+1))\n",
    "plt.grid(True)\n",
    "plt.legend()\n",
    "plt.show()"
   ]
  },
  {
   "cell_type": "code",
   "execution_count": null,
   "id": "8ccd6de7",
   "metadata": {},
   "outputs": [],
   "source": [
    "n_optimo = np.argmax(var_acumulada >= percentage_var) + 1\n",
    "print(f\"✅ Número mínimo de componentes para explicar el 95% de la varianza: {n_optimo}\")"
   ]
  },
  {
   "cell_type": "code",
   "execution_count": null,
   "id": "17444c3f",
   "metadata": {},
   "outputs": [],
   "source": [
    "n_componentes = 2 #n_optimo\n",
    "pca = PCA(n_components=n_componentes)\n",
    "X_pca = pca.fit_transform(X_scaled)\n",
    "\n",
    "# 5. DataFrame transformado\n",
    "columnas_pca = [f\"PC{i+1}\" for i in range(n_componentes)]\n",
    "df_pca = pd.DataFrame(X_pca, columns=columnas_pca)\n",
    "df_pca[\"Clase\"] = y\n",
    "print(\"✅ DataFrame transformado:\")\n",
    "print(df_pca.head())\n",
    "\n",
    "df_pca.to_csv(f\"data_conocidos_pca_{n_componentes}.csv\", index=False)\n",
    "print(\"✅ DataFrame transformado guardado como data_conocidos_pca.csv\")\n",
    "\n",
    "# 6. División en entrenamiento y prueba\n",
    "X_train, X_test, y_train, y_test = train_test_split(\n",
    "    df_pca.drop(\"Clase\", axis=1), df_pca[\"Clase\"], test_size=0.3, random_state=42, stratify=y\n",
    ")\n",
    "\n",
    "# 7. Entrenamiento del clasificador\n",
    "clf = RandomForestClassifier(random_state=42)\n",
    "clf.fit(X_train, y_train)"
   ]
  },
  {
   "cell_type": "code",
   "execution_count": null,
   "id": "56511a8f",
   "metadata": {},
   "outputs": [],
   "source": [
    "if n_componentes == 2:\n",
    "    fig = px.scatter(\n",
    "        df_pca, x=\"PC1\", y=\"PC2\", color=\"Clase\",\n",
    "        title=\"PCA con 2 componentes principales (plotly)\",\n",
    "        labels={\"PC1\": \"Componente Principal 1\", \"PC2\": \"Componente Principal 2\"},\n",
    "        width=800, height=600\n",
    "    )\n",
    "    fig.update_traces(marker=dict(size=8, opacity=0.7))\n",
    "    fig.show()\n",
    "\n",
    "elif n_componentes == 3:\n",
    "    fig = px.scatter_3d(\n",
    "        df_pca, x=\"PC1\", y=\"PC2\", z=\"PC3\", color=\"Clase\",\n",
    "        title=\"PCA con 3 componentes principales (plotly 3D)\",\n",
    "        labels={\"PC1\": \"Componente Principal 1\", \"PC2\": \"Componente Principal 2\", \"PC3\": \"Componente Principal 3\"},\n",
    "        width=850, height=700\n",
    "    )\n",
    "    fig.update_traces(marker=dict(size=5, opacity=0.7))\n",
    "    fig.show()"
   ]
  },
  {
   "cell_type": "code",
   "execution_count": null,
   "id": "170eed64",
   "metadata": {},
   "outputs": [],
   "source": [
    "def clasificar_nuevos_datos(nuevos_datos_df):\n",
    "    \"\"\"\n",
    "    nuevos_datos_df: DataFrame con las 13 columnas originales del dataset de vinos.\n",
    "    \"\"\"\n",
    "    # Verificar columnas\n",
    "    if list(nuevos_datos_df.columns) != list(X.columns):\n",
    "        raise ValueError(\"Las columnas deben coincidir con las originales del dataset.\")\n",
    "\n",
    "    # Estandarizar con el scaler entrenado\n",
    "    nuevos_escalados = scaler.transform(nuevos_datos_df)\n",
    "\n",
    "    # Proyectar con el PCA entrenado\n",
    "    nuevos_pca = pca.transform(nuevos_escalados)\n",
    "\n",
    "    # Clasificar\n",
    "    predicciones = clf.predict(nuevos_pca)\n",
    "    return predicciones\n",
    "\n",
    "nuevo = pd.read_csv(\"breast_cancer_dataset_desconocidos.csv\")\n",
    "pred = clasificar_nuevos_datos(nuevo)\n",
    "print(\"Predicciones para los nuevos datos:\", pred)\n",
    "nuevo[\"pred\"] = pred\n",
    "nuevo.to_csv(f\"data_desconocidos_con_pred_{n_componentes}.csv\", index=False)"
   ]
  }
 ],
 "metadata": {
  "kernelspec": {
   "display_name": "Python 3 (ipykernel)",
   "language": "python",
   "name": "python3"
  },
  "language_info": {
   "codemirror_mode": {
    "name": "ipython",
    "version": 3
   },
   "file_extension": ".py",
   "mimetype": "text/x-python",
   "name": "python",
   "nbconvert_exporter": "python",
   "pygments_lexer": "ipython3",
   "version": "3.11.4"
  }
 },
 "nbformat": 4,
 "nbformat_minor": 5
}
