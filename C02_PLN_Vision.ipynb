{
 "cells": [
  {
   "cell_type": "markdown",
   "id": "09423011-c28c-4824-9964-461ec23f2a32",
   "metadata": {},
   "source": [
    "![imagenes](logo.png)"
   ]
  },
  {
   "cell_type": "markdown",
   "id": "a7903190-24dd-4815-b7f8-231e706aadd1",
   "metadata": {},
   "source": [
    "## Procesamiento de Lenguaje Natural (PLN / NLP)\n",
    "\n",
    "El **Procesamiento de Lenguaje Natural** (**PLN**), conocido en inglés como *Natural Language Processing* (**NLP**), es una rama de la **Inteligencia Artificial (IA)** que permite a las computadoras **comprender, interpretar y generar lenguaje humano** de manera útil y significativa.\n",
    "\n",
    "El PLN utiliza diversas técnicas para procesar datos textuales, entre las que destacan:\n",
    "\n",
    "1. **Análisis de Sentimientos**  \n",
    "2. **Clasificación de Texto**  \n",
    "3. **Reconocimiento de Entidades Nombradas (NER)**  \n",
    "4. **Traducción Automática**  \n",
    "5. **Sistemas de Pregunta-Respuesta**  \n",
    "\n",
    "Repasemos las tareas mencionadas anteriormente con más detalle cuando se trata de PNL, es decir, procesamiento del lenguaje natural:\n",
    "\n",
    "**1. Análisis de Sentimientos**  \n",
    "\n",
    "El análisis de sentimientos implica determinar el sentimiento o la emoción expresados en un texto, por ejemplo, identificando si una afirmación es positiva, negativa o neutral.\n",
    "\n",
    "Puede utilizarse para el análisis de la experiencia del cliente; las empresas pueden utilizarlo para evaluar los comentarios de los clientes procedentes de diversas fuentes, como encuestas, redes sociales y reseñas de productos, lo que les ayuda a identificar áreas de mejora y tendencias de satisfacción del cliente.\n",
    "\n",
    "El análisis de sentimientos también puede utilizarse para el seguimiento de la reputación de marca; las empresas pueden utilizarlo para analizar la opinión pública sobre su marca, productos o servicios, lo que les permite responder de forma proactiva al sentimiento negativo o aprovechar el positivo en sus estrategias de marketing.\n",
    "\n",
    "**2. Clasificación de Texto**  \n",
    "\n",
    "La siguiente tarea del PLN es la clasificación de texto, que consiste en categorizar el texto en grupos predefinidos según su contenido o contexto. La clasificación de texto puede utilizarse para la detección de spam; los proveedores de servicios de correo electrónico pueden usarla para identificar y filtrar automáticamente los mensajes de spam, garantizando una experiencia más limpia en la bandeja de entrada de los usuarios.\n",
    "\n",
    "La clasificación de texto también puede utilizarse para la revisión de currículos; las empresas pueden usar algoritmos de clasificación de texto para categorizar y filtrar automáticamente las solicitudes de empleo según criterios predefinidos, agilizando el proceso de selección inicial de los equipos de recursos humanos.\n",
    "\n",
    "Si pensamos como una computadora, incluiremos más palabras clave en nuestros currículos y en la sección de título y resumen del puesto de nuestro perfil de LinkedIn.\n",
    "\n",
    "**3. Reconocimiento de Entidades Nombradas (NER)**  \n",
    "\n",
    "La siguiente tarea de PLN se denomina Reconocimiento de Entidades Nombradas o NER, e implica la identificación y clasificación de entidades específicas, como nombres de personas, organizaciones, ubicaciones o fechas, dentro de un texto determinado.\n",
    "\n",
    "El Reconocimiento de Entidades Nombradas puede utilizarse para el análisis de noticias financieras; las instituciones financieras pueden utilizar NER para extraer información clave, como nombres de empresas, símbolos bursátiles y cifras financieras, de artículos periodísticos, lo que permite una toma de decisiones más rápida e informada en el comercio y la inversión.\n",
    "\n",
    "El Reconocimiento de Entidades Nombradas también se utiliza en la gestión de la propiedad intelectual; los bufetes de abogados y las empresas pueden utilizar NER para identificar entidades específicas, como números de patentes, nombres de inventores y términos tecnológicos, en documentos legales, lo que les ayuda a gestionar y analizar sus carteras de propiedad intelectual de forma más eficiente.\n",
    "\n",
    "**4. Traducción Automática**  \n",
    "\n",
    "Pasemos a la siguiente tarea de PLN: la traducción automática. Este proceso consiste en convertir automáticamente texto de un idioma a otro mediante algoritmos de PLN.\n",
    "\n",
    "La traducción automática se utiliza en la atención al cliente global; las empresas pueden usarla para brindar soporte en tiempo real a sus clientes en varios idiomas, ampliando su cartera de clientes y mejorando su satisfacción.\n",
    "\n",
    "La traducción automática también se utiliza en la colaboración interlingüe; las empresas multinacionales pueden usarla para facilitar la comunicación entre empleados que hablan diferentes idiomas, lo que permite una colaboración más eficiente entre departamentos y regiones.\n",
    "\n",
    "**5. Sistemas de Pregunta-Respuesta**  \n",
    "\n",
    "La última tarea del PLN son los sistemas de respuesta a preguntas, que utilizan técnicas de PLN para comprender las consultas de los usuarios y proporcionar respuestas o información relevante basándose en un texto o base de conocimiento determinado, a menudo mediante chatbots de atención al cliente. Su uso puede resultar frustrante en ocasiones, pero permite a las empresas ahorrar mucho dinero. Las empresas pueden implementar chatbots con IA para gestionar las preguntas frecuentes y brindar asistencia instantánea a los clientes, reduciendo la carga de trabajo de los agentes de soporte y mejorando los tiempos de respuesta.\n",
    "\n",
    "Otro ejemplo de sistemas de respuesta a preguntas es una base de conocimiento interna; las empresas pueden utilizar estos sistemas para crear una base de conocimiento interna inteligente que ayude a los empleados a encontrar respuestas a sus preguntas de forma rápida y eficiente, optimizando las operaciones y mejorando la productividad."
   ]
  },
  {
   "cell_type": "markdown",
   "id": "d2746d6e-6b18-4a44-a4db-baa9d76d9ef7",
   "metadata": {},
   "source": [
    "## Visión por computadora\n",
    "\n",
    "La Visión por Computador (o Visión Artificial) es un campo de la Inteligencia Artificial que permite a las computadoras y máquinas interpretar y comprender información visual del mundo, como imágenes, videos o transmisiones de cámaras en tiempo real. Es como enseñar a una computadora a \"ver\" y dar sentido al mundo visual, tal como lo hacen los humanos.\n",
    "\n",
    "El objetivo principal de la visión por computador es encontrar diversas técnicas para manipular y extraer información de las imágenes, con el fin de obtener insights accionables para nuestro negocio. Con esto, podemos lograr cosas como clasificar objetos en una imagen, detectar rostros, identificar objetos en movimiento, peatones y otros elementos.\n",
    "\n",
    "<img src=\"im002.png\" style=\"display:block; margin:auto;\">"
   ]
  },
  {
   "cell_type": "markdown",
   "id": "3b4cad66-65f0-4816-b58e-f06d45e1f7de",
   "metadata": {},
   "source": [
    "Un ejemplo increíble de una empresa que utiliza la Visión por Computador es Tesla. Tesla tiene uno de los mejores equipos de IA del mundo y sistemas de Visión por Computador desarrollados por ellos. En lugar de usar radares para navegar su entorno, los autos de Tesla utilizan únicamente 8 cámaras posicionadas alrededor del vehículo con fines de Visión Artificial.\n",
    "\n",
    "Además de su aplicación en autos, Tesla emplea la Visión por Computador para optimizar sus fábricas, con el objetivo de acelerar la línea de producción y fabricar más vehículos. Por ejemplo, en muchas de sus fábricas, gran parte del trabajo lo realizan robots.\n",
    "\n",
    "<img src=\"im003.png\" style=\"display:block; margin:auto;\">"
   ]
  },
  {
   "cell_type": "markdown",
   "id": "2d60d87e-121c-4650-934d-d27713d52da3",
   "metadata": {},
   "source": [
    "Exploremos algunas aplicaciones de la Visión por Computador y las industrias que las utilizan hoy en día:\n",
    "\n",
    "Una de las aplicaciones más comunes es la clasificación de imágenes. Básicamente, creamos un sistema que, dada una imagen, predice lo que aparece en ella. Algunos usos incluyen bloques que detectan si un usuario ha subido contenido inapropiado o sistemas que reconocen el Lenguaje de Señas.\n",
    "\n",
    "Otra aplicación es la detección y segmentación de objetos. En lugar de solo decir \"esta es una imagen de un peatón\", queremos saber exactamente dónde se encuentra dentro de la imagen. Imagina un auto autónomo: si usáramos solo clasificación de imágenes, el vehículo se detendría cada vez que apareciera un peatón en el cuadro. Pero si sabemos que el peatón está en la acera (y no en la calle), podemos avanzar con seguridad.\n",
    "\n",
    "Un ejemplo más de segmentación de imágenes son los drones autónomos, que identifican y evitan obstáculos al entregar paquetes, o los robots en los almacenes de Amazon que empaquetan cajas.\n",
    "\n",
    "<img src=\"im004.png\" style=\"display:block; margin:auto;\">\n"
   ]
  },
  {
   "cell_type": "markdown",
   "id": "c473eae3-38b4-4882-8332-c7ecfabe2471",
   "metadata": {},
   "source": [
    "Veamos cómo algunas industrias se han revolucionado gracias a la IA y la Visión por Computador:\n",
    "\n",
    "**Redes Sociales:** Plataformas como TikTok, Instagram y Facebook analizan cada imagen que subimos para hacerla buscable.\n",
    "\n",
    "**Sector Minorista (Retail):** Se usa para gestión de inventario, monitoreo de estantes, seguimiento del comportamiento de compradores, recomendación de productos y detección de robos mediante el reconocimiento de actividades sospechosas en tiempo real.\n",
    "\n",
    "**Marketing y Publicidad:** Las empresas analizan el comportamiento y preferencias de los clientes mediante cámaras en tiendas o redes sociales, creando campañas más dirigidas y efectivas.\n",
    "\n",
    "**Recursos Humanos:** Algoritmos de visión por computador analizan entrevistas en video, expresiones faciales y lenguaje corporal para tomar decisiones de contratación más informadas.\n",
    "\n",
    "\n",
    "\n",
    "**Ejemplo:** https://teachablemachine.withgoogle.com/ \n",
    "\n",
    "(ver el video https://github.com/scidatmath2020/Intro_IA_25/blob/main/apps/vision_computadora.mp4)"
   ]
  }
 ],
 "metadata": {
  "kernelspec": {
   "display_name": "Python [conda env:base] *",
   "language": "python",
   "name": "conda-base-py"
  },
  "language_info": {
   "codemirror_mode": {
    "name": "ipython",
    "version": 3
   },
   "file_extension": ".py",
   "mimetype": "text/x-python",
   "name": "python",
   "nbconvert_exporter": "python",
   "pygments_lexer": "ipython3",
   "version": "3.12.3"
  }
 },
 "nbformat": 4,
 "nbformat_minor": 5
}
