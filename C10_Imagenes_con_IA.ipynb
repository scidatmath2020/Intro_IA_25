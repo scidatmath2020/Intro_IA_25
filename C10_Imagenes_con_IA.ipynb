{
 "cells": [
  {
   "cell_type": "markdown",
   "id": "b8970399",
   "metadata": {},
   "source": [
    "![imagenes](logo.png)"
   ]
  },
  {
   "cell_type": "markdown",
   "id": "bae3de97",
   "metadata": {},
   "source": [
    "# Imágenes con IA: DALL·E 3 y otras alternativas\n",
    "\n",
    "Las IAs generativas convierten palabras en imágenes, combinando modelos de lenguaje e imagen. Nos permiten crear contenido visual sin necesidad de saber dibujar.\n",
    "\n",
    "En esta sesión aprenderás a generar imágenes a partir de descripciones escritas (prompts) usando herramientas de IA. Aprenderemos sobre\n",
    "- DALL·E 3 con ChatGPT y Copilot\n",
    "- Otras IA generativas (Craiyon, BlueWillow, Dreamlike, Stable Diffusion, Leonardo, etc.)\n",
    "\n"
   ]
  },
  {
   "cell_type": "markdown",
   "id": "9ac96643",
   "metadata": {},
   "source": [
    "## ¿Qué es DALL·E 3?\n",
    "\n",
    "DALL·E 3 es un modelo de generación de imágenes desarrollado por OpenAI. Recibe una descripción en lenguaje natural (prompt) y produce una imagen coherente y detallada.\n",
    "\n",
    "**Ventajas:**\n",
    "- Comprensión profunda de lenguaje\n",
    "- Detalles complejos: manos, texto, fondos\n",
    "- Dos estilos: *natural* (realista) y *vivid* (más expresivo)\n",
    "- Puede interpretarse como un \"ilustrador conversacional\"\n",
    "\n",
    "**Versiones disponibles:**\n",
    "- 🔹 **ChatGPT** (modelo GPT-4 con imagen)\n",
    "- 🔹 **Microsoft Copilot / Bing Creator**\n"
   ]
  },
  {
   "cell_type": "markdown",
   "id": "f1e67e31",
   "metadata": {},
   "source": [
    "## Usando DALL·E 3 en ChatGPT\n",
    "\n",
    "Pasos:\n",
    "1. Abre [https://chat.openai.com](https://chat.openai.com) con una cuenta gratuita o Plus\n",
    "2. Escribe un prompt como: *Un zorro cibernético con luces LED, en un bosque futurista, estilo arte digital*\n",
    "3. Espera unos segundos y obtendrás una imagen (puedes iterar: \"hazlo con fondo azul\", \"cambia la pose\", etc.)\n",
    "\n",
    "![imagenes](im010.png)\n",
    "\n",
    "\n",
    "✅ Ventaja: interacción conversacional\n",
    "\n",
    "❌ Limitado a 2 imágenes/día en plan gratuito\n",
    "\n",
    "> 💡 Consejo: Usa prompts **concretos** + estilo deseado + detalles de escena"
   ]
  },
  {
   "cell_type": "markdown",
   "id": "2f374b7c",
   "metadata": {},
   "source": [
    "## Usando DALL·E 3 en Microsoft Copilot (Bing)\n",
    "\n",
    "1. Entra a [https://www.bing.com/images/create](https://www.bing.com/images/create)\n",
    "2. Inicia sesión con cuenta Microsoft\n",
    "3. Escribe tu prompt: *Una ciudad flotante sobre nubes rosas al atardecer, estilo Studio Ghibli*\n",
    "4. Recibirás 4 versiones de imagen (puedes regenerar o guardar)\n",
    "\n",
    "✅ Gratis, sin límite diario visible  \n",
    "✅ Imágenes en alta resolución  \n",
    "❌ No hay diálogo o iteración como en ChatGPT\n",
    "\n",
    "> 🛠️ Alternativa práctica si no tienes suscripción a GPT-4\n"
   ]
  },
  {
   "cell_type": "markdown",
   "id": "63861c53",
   "metadata": {},
   "source": [
    "##  Ejemplos de Prompts Creativos\n",
    "\n",
    "1. *Un dragón hecho de fuego danzando sobre una montaña nevada, estilo pintura al óleo*\n",
    "2. *Retrato realista de una astronauta mexicana en la Luna, con la bandera ondeando detrás*\n",
    "3. *Una taza de café derramándose en cámara lenta, vista macro, fondo oscuro*\n",
    "4. *Una escena postapocalíptica con vegetación sobre rascacielos, estilo anime*\n",
    "\n",
    "💡 Usa frases como:\n",
    "- \"en estilo de...\" (Van Gogh, Pixar, arte digital)\n",
    "- \"con iluminación...\" (suave, de estudio, dorada)\n",
    "- \"perspectiva...\" (cenital, desde abajo)\n"
   ]
  },
  {
   "cell_type": "markdown",
   "id": "cf6c83de",
   "metadata": {},
   "source": [
    "## Comparativa: Otras IAs para generar imágenes\n",
    "\n",
    "Existen muchas plataformas que permiten crear imágenes gratis o con planes básicos.\n",
    "\n",
    "| Plataforma           | Gratuito         | Estilo visual destacado     | Integración / Acceso       | Observaciones clave                                                |\n",
    "|----------------------|------------------|------------------------------|-----------------------------|---------------------------------------------------------------------|\n",
    "| **DALL·E 3 (ChatGPT)** | ✅ Parcial       | Realista o vívido           | [chat.openai.com](https://chat.openai.com) | Conversación iterativa; 2 imágenes/día en plan gratuito            |\n",
    "| **Bing Image Creator**| ✅ Sí            | Variado y flexible          | [bing.com/images/create](https://bing.com/images/create) | Usa DALL·E 3 internamente; requiere cuenta Microsoft               |\n",
    "| **Midjourney**       | ❌ No            | Artístico / surrealista     | Discord                     | Alta calidad; suscripción desde ~$10 USD/mes                        |\n",
    "| **Craiyon**          | ✅ Sí            | Simple / caricaturesco      | [craiyon.com](https://www.craiyon.com) | Gratuito, sin registro; resultados muy básicos                      |\n",
    "| **Stable Diffusion** | ✅ Sí (local/web)| Fotorealismo o arte         | WebUI / Colab / local       | Requiere instalación o acceso a plataformas como DreamStudio        |\n",
    "| **Playground AI**    | ✅ Sí            | Ilustración / fotorealismo  | [playgroundai.com](https://playgroundai.com) | Usa Stable Diffusion; editor visual y asistente de prompts         |\n",
    "| **Leonardo AI**      | ✅ Sí (registro) | Alta calidad artística       | [leonardo.ai](https://leonardo.ai) | Especializado en arte digital y retratos; registro requerido        |\n",
    "| **BlueWillow**       | ✅ Sí            | Estilo Midjourney-like      | Discord                     | Gratuito; buena calidad pero sin control fino                       |\n",
    "| **NightCafe**        | ✅ (créditos)    | Estilos variados            | [nightcafe.studio](https://nightcafe.studio) | Sistema basado en créditos; comunidad activa                       |\n",
    "| **Dream by Wombo**   | ✅ Sí            | Pintura digital estilizada  | [wombo.art](https://www.wombo.art) | Muy fácil de usar; disponible como app móvil y web                 |\n",
    "\n",
    "📌 *Nota: La disponibilidad gratuita puede cambiar. Algunos modelos tienen versiones premium con más funciones o generación ilimitada.*\n"
   ]
  },
  {
   "cell_type": "markdown",
   "id": "d78ba4f6",
   "metadata": {},
   "source": [
    "## DEMO sugerida con PlaygroundAI o Leonardo\n",
    "\n",
    "1. Visita [https://playgroundai.com](https://playgroundai.com) o [https://leonardo.ai](https://leonardo.ai)\n",
    "2. Escribe un prompt como *Una biblioteca infinita flotando en el espacio, con libros girando en gravedad cero, estilo arte digital*\n",
    "3. Selecciona un modelo (Stable Diffusion XL, Leonardo, etc.)\n",
    "4. Genera y descarga la imagen\n",
    "\n",
    "✅ Puedes ajustar parámetros: número de pasos, estilo, proporción\n",
    "\n",
    "✅ Ideal para experimentación más detallada\n",
    "\n",
    "\n"
   ]
  },
  {
   "cell_type": "markdown",
   "id": "fe9b79dc",
   "metadata": {},
   "source": [
    "## Conclusiones y consejos finales\n",
    "\n",
    "- Las IAs de imágenes han democratizado la ilustración digital\n",
    "- DALL·E 3 (ChatGPT y Bing) es una de las más accesibles y potentes\n",
    "- Otras IAs ofrecen estilos únicos: vale la pena probar varias\n",
    "\n",
    "**Recomendaciones**:\n",
    "- Redacta tus prompts como si describieras una escena a un artista\n",
    "- Añade contexto visual, estilo, colores, emociones\n",
    "- Itera: la primera imagen rara vez será la perfecta\n",
    "\n",
    "> 🔁 Tarea: genera 3 imágenes sobre un mismo tema en distintas plataformas, compara estilos y escribe tus observaciones.\n"
   ]
  },
  {
   "cell_type": "markdown",
   "id": "0d219776",
   "metadata": {},
   "source": [
    "## Actividad práctica: Crea tu imagen con IA\n",
    "\n",
    "### Objetivo\n",
    "Poner en práctica el uso de modelos generativos para crear una imagen original a partir de una idea temática, explorando al menos **dos herramientas distintas**.\n",
    "\n",
    "---\n",
    "\n",
    "### Instrucciones\n",
    "\n",
    "1. **Elige una temática creativa** de la siguiente lista, o inventa la tuya:\n",
    "   - Un animal mítico inventado\n",
    "   - Un futuro alternativo de tu ciudad\n",
    "   - La portada de un cuento infantil\n",
    "   - Un objeto cotidiano rediseñado en el año 2500\n",
    "   - Una escena dentro de un sueño surrealista\n",
    "---\n",
    "\n",
    "2. **Redacta un prompt claro y visualmente detallado**. Ejemplo:\n",
    "   > “Un gato con alas mecánicas que sobrevuela una ciudad steampunk iluminada por faroles de gas, estilo ilustración digital oscura”\n",
    "\n",
    "---\n",
    "3. **Genera una imagen** en al menos dos de estas plataformas:\n",
    "   - ChatGPT (DALL·E 3)\n",
    "   - Bing Image Creator\n",
    "   - Leonardo AI\n",
    "   - Playground AI\n",
    "   - Dream by Wombo\n",
    "   - Craiyon\n",
    "\n",
    "---\n",
    "4. **Guarda ambas imágenes** y compáralas:\n",
    "   - ¿Cuál se acerca más a tu visión?\n",
    "   - ¿Qué detalles varían entre ambas?\n",
    "   - ¿Qué estilo prefieres?\n",
    "\n",
    "---\n",
    "\n",
    "No temas experimentar: cambia solo una palabra y vuelve a generar. ¡A veces la magia está en los detalles!\n"
   ]
  }
 ],
 "metadata": {
  "kernelspec": {
   "display_name": "Python 3 (ipykernel)",
   "language": "python",
   "name": "python3"
  },
  "language_info": {
   "codemirror_mode": {
    "name": "ipython",
    "version": 3
   },
   "file_extension": ".py",
   "mimetype": "text/x-python",
   "name": "python",
   "nbconvert_exporter": "python",
   "pygments_lexer": "ipython3",
   "version": "3.11.4"
  }
 },
 "nbformat": 4,
 "nbformat_minor": 5
}
