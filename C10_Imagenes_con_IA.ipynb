{
 "cells": [
  {
   "cell_type": "markdown",
   "id": "cb464f67",
   "metadata": {},
   "source": [
    "![imagenes](logo.png)"
   ]
  },
  {
   "cell_type": "markdown",
   "id": "4474fdb2",
   "metadata": {},
   "source": [
    "# Imágenes con IA: DALL·E 3 y otras alternativas\n",
    "\n",
    "Las IAs generativas convierten palabras en imágenes, combinando modelos de lenguaje e imagen. Nos permiten crear contenido visual sin necesidad de saber dibujar.\n",
    "\n",
    "En esta sesión aprenderás a generar imágenes a partir de descripciones escritas (prompts) usando herramientas de IA. Aprenderemos sobre\n",
    "- DALL·E 3 con ChatGPT y Copilot\n",
    "- Otras IA generativas (Craiyon, BlueWillow, Dreamlike, Stable Diffusion, Leonardo, etc.)\n",
    "\n"
   ]
  },
  {
   "cell_type": "markdown",
   "id": "40efe327",
   "metadata": {},
   "source": [
    "## ¿Qué es DALL·E 3?\n",
    "\n",
    "DALL·E 3 es un modelo de generación de imágenes desarrollado por OpenAI. Recibe una descripción en lenguaje natural (prompt) y produce una imagen coherente y detallada.\n",
    "\n",
    "**Ventajas:**\n",
    "- Comprensión profunda de lenguaje\n",
    "- Detalles complejos: manos, texto, fondos\n",
    "- Dos estilos: *natural* (realista) y *vivid* (más expresivo)\n",
    "- Puede interpretarse como un \"ilustrador conversacional\"\n",
    "\n",
    "**Versiones disponibles:**\n",
    "- 🔹 **ChatGPT** (modelo GPT-4 con imagen)\n",
    "- 🔹 **Microsoft Copilot / Bing Creator**\n"
   ]
  },
  {
   "cell_type": "markdown",
   "id": "8f2697dc",
   "metadata": {},
   "source": [
    "## Usando DALL·E 3 en ChatGPT\n",
    "\n",
    "Pasos:\n",
    "1. Abre [https://chat.openai.com](https://chat.openai.com) con una cuenta gratuita o Plus\n",
    "2. Escribe un prompt como: *Un zorro cibernético con luces LED, en un bosque futurista, estilo arte digital*\n",
    "3. Espera unos segundos y obtendrás una imagen (puedes iterar: \"hazlo con fondo azul\", \"cambia la pose\", etc.)\n",
    "\n",
    "![imagenes](im010.png)\n",
    "\n",
    "\n",
    "✅ Ventaja: interacción conversacional\n",
    "\n",
    "❌ Limitado a 2 imágenes/día en plan gratuito\n",
    "\n",
    "> 💡 Consejo: Usa prompts **concretos** + estilo deseado + detalles de escena"
   ]
  },
  {
   "cell_type": "markdown",
   "id": "c6644790",
   "metadata": {},
   "source": [
    "## Usando DALL·E 3 en Microsoft Copilot (Bing)\n",
    "\n",
    "1. Entra a [https://www.bing.com/images/create](https://www.bing.com/images/create)\n",
    "2. Inicia sesión con cuenta Microsoft\n",
    "3. Escribe tu prompt: *Una ciudad flotante sobre nubes rosas al atardecer, estilo Studio Ghibli*\n",
    "4. Recibirás 4 versiones de imagen (puedes regenerar o guardar)\n",
    "\n",
    "✅ Gratis, sin límite diario visible  \n",
    "✅ Imágenes en alta resolución  \n",
    "❌ No hay diálogo o iteración como en ChatGPT\n",
    "\n",
    "> 🛠️ Alternativa práctica si no tienes suscripción a GPT-4\n"
   ]
  },
  {
   "cell_type": "markdown",
   "id": "f710356b",
   "metadata": {},
   "source": [
    "##  Ejemplos de Prompts Creativos\n",
    "\n",
    "1. *Un dragón hecho de fuego danzando sobre una montaña nevada, estilo pintura al óleo*\n",
    "2. *Retrato realista de una astronauta mexicana en la Luna, con la bandera ondeando detrás*\n",
    "3. *Una taza de café derramándose en cámara lenta, vista macro, fondo oscuro*\n",
    "4. *Una escena postapocalíptica con vegetación sobre rascacielos, estilo anime*\n",
    "\n",
    "💡 Usa frases como:\n",
    "- \"en estilo de...\" (Van Gogh, Pixar, arte digital)\n",
    "- \"con iluminación...\" (suave, de estudio, dorada)\n",
    "- \"perspectiva...\" (cenital, desde abajo)\n"
   ]
  },
  {
   "cell_type": "markdown",
   "id": "fe06ee66",
   "metadata": {},
   "source": [
    "## Comparativa: Otras IAs para generar imágenes\n",
    "\n",
    "Existen muchas plataformas que permiten crear imágenes gratis o con planes básicos.\n",
    "\n",
    "| Plataforma       | Gratuito | Destacado                                | Acceso               |\n",
    "|------------------|----------|------------------------------------------|-----------------------|\n",
    "| DALL·E 3 (ChatGPT) | Parcial  | Conversación, iteración, buen detalle     | chat.openai.com       |\n",
    "| Copilot / Bing    | Sí       | Rápido, visualmente sólido                | bing.com/images/create |\n",
    "| Craiyon           | Sí       | Simple, tipo caricatura, sin registro     | craiyon.com           |\n",
    "| Leonardo AI       | Sí (registro) | Alta calidad, especializado en arte | leonardo.ai           |\n",
    "| Playground AI     | Sí       | Usa Stable Diffusion, editor visual       | playgroundai.com      |\n",
    "| BlueWillow        | Sí       | Discord, estilo Midjourney                | bluewillow.ai         |\n",
    "| NightCafe         | Créditos | Estilos variados, comunidad artística     | nightcafe.studio      |\n",
    "| Dream by Wombo    | Sí       | App móvil, arte digital estilizado        | wombo.art             |\n"
   ]
  },
  {
   "cell_type": "markdown",
   "id": "738d0568",
   "metadata": {},
   "source": [
    "## DEMO sugerida con PlaygroundAI o Leonardo\n",
    "\n",
    "1. Visita [https://playgroundai.com](https://playgroundai.com) o [https://leonardo.ai](https://leonardo.ai)\n",
    "2. Escribe un prompt como *Una biblioteca infinita flotando en el espacio, con libros girando en gravedad cero, estilo arte digital*\n",
    "3. Selecciona un modelo (Stable Diffusion XL, Leonardo, etc.)\n",
    "4. Genera y descarga la imagen\n",
    "\n",
    "✅ Puedes ajustar parámetros: número de pasos, estilo, proporción\n",
    "\n",
    "✅ Ideal para experimentación más detallada\n",
    "\n",
    "\n"
   ]
  },
  {
   "cell_type": "markdown",
   "id": "4a84f0e8",
   "metadata": {},
   "source": [
    "## Conclusiones y consejos finales\n",
    "\n",
    "- Las IAs de imágenes han democratizado la ilustración digital\n",
    "- DALL·E 3 (ChatGPT y Bing) es una de las más accesibles y potentes\n",
    "- Otras IAs ofrecen estilos únicos: vale la pena probar varias\n",
    "\n",
    "**Recomendaciones**:\n",
    "- Redacta tus prompts como si describieras una escena a un artista\n",
    "- Añade contexto visual, estilo, colores, emociones\n",
    "- Itera: la primera imagen rara vez será la perfecta\n",
    "\n",
    "> 🔁 Tarea: genera 3 imágenes sobre un mismo tema en distintas plataformas, compara estilos y escribe tus observaciones.\n"
   ]
  },
  {
   "cell_type": "markdown",
   "id": "13698a91",
   "metadata": {},
   "source": [
    "## Actividad práctica: Crea tu imagen con IA\n",
    "\n",
    "### Objetivo\n",
    "Poner en práctica el uso de modelos generativos para crear una imagen original a partir de una idea temática, explorando al menos **dos herramientas distintas**.\n",
    "\n",
    "---\n",
    "\n",
    "### Instrucciones\n",
    "\n",
    "1. **Elige una temática creativa** de la siguiente lista, o inventa la tuya:\n",
    "   - Un animal mítico inventado\n",
    "   - Un futuro alternativo de tu ciudad\n",
    "   - La portada de un cuento infantil\n",
    "   - Un objeto cotidiano rediseñado en el año 2500\n",
    "   - Una escena dentro de un sueño surrealista\n",
    "---\n",
    "\n",
    "2. **Redacta un prompt claro y visualmente detallado**. Ejemplo:\n",
    "   > “Un gato con alas mecánicas que sobrevuela una ciudad steampunk iluminada por faroles de gas, estilo ilustración digital oscura”\n",
    "\n",
    "---\n",
    "3. **Genera una imagen** en al menos dos de estas plataformas:\n",
    "   - ChatGPT (DALL·E 3)\n",
    "   - Bing Image Creator\n",
    "   - Leonardo AI\n",
    "   - Playground AI\n",
    "   - Dream by Wombo\n",
    "   - Craiyon\n",
    "\n",
    "---\n",
    "4. **Guarda ambas imágenes** y compáralas:\n",
    "   - ¿Cuál se acerca más a tu visión?\n",
    "   - ¿Qué detalles varían entre ambas?\n",
    "   - ¿Qué estilo prefieres?\n",
    "\n",
    "---\n",
    "\n",
    "No temas experimentar: cambia solo una palabra y vuelve a generar. ¡A veces la magia está en los detalles!\n"
   ]
  }
 ],
 "metadata": {
  "kernelspec": {
   "display_name": "Python 3 (ipykernel)",
   "language": "python",
   "name": "python3"
  },
  "language_info": {
   "codemirror_mode": {
    "name": "ipython",
    "version": 3
   },
   "file_extension": ".py",
   "mimetype": "text/x-python",
   "name": "python",
   "nbconvert_exporter": "python",
   "pygments_lexer": "ipython3",
   "version": "3.11.4"
  }
 },
 "nbformat": 4,
 "nbformat_minor": 5
}
