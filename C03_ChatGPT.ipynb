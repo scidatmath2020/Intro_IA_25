{
 "cells": [
  {
   "cell_type": "markdown",
   "id": "98c0c1c7-9cc8-4a4e-98a9-d6503a66b40f",
   "metadata": {},
   "source": [
    "![imagenes](logo.png)"
   ]
  },
  {
   "cell_type": "markdown",
   "id": "d26be147-2cba-4ffa-81cf-231f7c12055c",
   "metadata": {},
   "source": [
    "# Introducción\n",
    "\n",
    "En cuanto al qué, por qué y cómo de la sección 3, comencemos con el qué. ¿Qué vamos a aprender juntos? Aprenderemos las técnicas más importantes de ingeniería de prompts para que podamos aprender cómo obtener el máximo valor de los modelos de lenguaje grandes, como ChatGPT.\n",
    "\n",
    "La Ingeniería de Prompts es un término de Inteligencia Artificial que se utiliza cuando se habla de Procesamiento de Lenguaje Natural (es decir, hacerle una pregunta a un producto de IA). Aquí en la sección 3 hablaremos de ChatGPT, luego en la sección 4 discutiremos los plugins de ChatGPT y después en la sección 5 analizaremos alternativas a ChatGPT, incluyendo el servicio de IA Bard de Google y el servicio de IA Bing Chat de Microsoft.\n",
    "\n",
    "Pasando al por qué, ¿por qué es importante comenzar la sección de ingeniería de prompts con ChatGPT? Porque ChatGPT se utiliza en el servicio Bing Chat de Microsoft, y la \"T\" en ChatGPT fue desarrollada originalmente por Google. GPT significa \"Generative Pre-trained Transformer\" (Transformador Generativo Pre-entrenado).\n",
    "\n",
    "Por último, ¿cómo? ¿Cómo vamos a aprender sobre ChatGPT aquí en la sección 3?\n",
    "Cada capítulo será muy práctico. Saltaremos a la interfaz de ChatGPT y haremos prompts juntos, analizando los resultados que observemos de nuestros prompts.\n"
   ]
  },
  {
   "cell_type": "markdown",
   "id": "0030db10-ed94-45eb-8542-8a048a8a99b8",
   "metadata": {},
   "source": [
    "# Introducción a la Ingeniería de Prompts\n",
    "\n",
    "Cuando piensas en un modelo de IA, imagínalo como un auto de alto rendimiento. Así como un auto necesita un conductor para guiarlo, un modelo de IA necesita prompts (instrucciones precisas) para producir el resultado que deseas.\n",
    "\n",
    "¿Por qué es tan importante la Ingeniería de Prompts?\n",
    "La respuesta es simple: calidad y eficiencia.\n",
    "\n",
    "Veamos la diferencia entre un prompt básico y uno avanzado, aplicando técnicas que cubriremos en esta sección:\n",
    "\n",
    "---\n",
    "❌ **Ejemplo 1 (Prompt básico):**\n",
    "\"Crea un plan de marketing para una plataforma de e-commerce que vende zapatos.\"\n",
    "\n",
    "🔹 Resultado: Respuesta genérica y poco útil.\n",
    "\n",
    "---\n",
    "✅ **Ejemplo 2 (Prompt avanzado):**\n",
    "\"Eres un director de marketing senior con experiencia en lanzamiento de categorías de productos en e-commerce. Crea un plan de marketing completo para mi negocio de venta de zapatos (exclusivamente para verano, con mercado principal en California y Florida). Incluye estrategias online y offline. Usa formato markdown y pregunta si necesitas más detalles. ¿Entendido?\"\n",
    "\n",
    "🔹 Resultado: Respuesta detallada, estructurada y adaptada a necesidades específicas.\n",
    "\n",
    "---\n",
    "### El Impacto de un Buen Prompt\n",
    "\n",
    "La diferencia entre un prompt mal elaborado (Ejemplo 1) y uno bien diseñado (Ejemplo 2) es abismal. Esto puede definir:\n",
    "\n",
    "🚀 Resultados útiles vs. respuestas confusas\n",
    "\n",
    "📈 Eficiencia operativa en servicio al cliente, creación de contenido o análisis predictivo\n",
    "\n",
    "🏆 Ventaja competitiva al obtener respuestas precisas y contextualizadas\n",
    "\n",
    "### ¿Cómo Dominar la Ingeniería de Prompts?\n",
    "Requiere:\n",
    "- Conocer las capacidades de tu IA (ej: ChatGPT, Bard, etc.).\n",
    "- Entender los requisitos de tu tarea.\n",
    "- Experimentar y refinar constantemente.\n",
    "- En esta sección, cubriremos todas las técnicas que necesitas para impulsar tu negocio y carrera con IA.\n",
    "\n",
    "\"Un buen prompt es como un GPS para la IA: cuanto más preciso, mejor será el destino.\""
   ]
  }
 ],
 "metadata": {
  "kernelspec": {
   "display_name": "Python 3 (ipykernel)",
   "language": "python",
   "name": "python3"
  },
  "language_info": {
   "codemirror_mode": {
    "name": "ipython",
    "version": 3
   },
   "file_extension": ".py",
   "mimetype": "text/x-python",
   "name": "python",
   "nbconvert_exporter": "python",
   "pygments_lexer": "ipython3",
   "version": "3.11.4"
  }
 },
 "nbformat": 4,
 "nbformat_minor": 5
}
