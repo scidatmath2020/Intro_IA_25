{
 "cells": [
  {
   "cell_type": "markdown",
   "id": "bb1d3059",
   "metadata": {},
   "source": [
    "![imagenes](logo.png)"
   ]
  },
  {
   "cell_type": "markdown",
   "id": "8734774e",
   "metadata": {},
   "source": [
    "# Avatares\n",
    "\n",
    "Discutiremos herramientas útiles de IA que pueden ayudarte a crear clones de tu voz y herramientas que pueden ayudarte a crear avatares digitales.\n",
    "\n",
    "Podríamos generar muestras de nuestras voces y más, y usarlas para narrar campañas de marketing, reseñas de productos e incluso crear tutoriales. ¡Incluso podríamos usar estas tecnologías para atención al cliente por teléfono o en Internet!\n",
    "\n",
    "Por más peligrosas que puedan ser estas herramientas desde un punto de vista ético, se van a usar mucho en el futuro. Se harán películas con avatares hiperrealistas, y en el futuro podremos crear nuestros propios avatares realistas para ayudarnos a crear tráilers promocionales o publicitar nuestras empresas."
   ]
  },
  {
   "cell_type": "markdown",
   "id": "a5d28780",
   "metadata": {},
   "source": [
    "## D-ID\n",
    "\n",
    "La primera herramienta de la que hablaremos hoy es D-ID, a la que puedes acceder en: https://www.d-id.com/.\n",
    "\n",
    "D-ID te permite crear avatares digitales. Aún no son perfectos, pero puedes subir una imagen simple tuya o de otra persona, puedes escribir un guión, subir tu propia voz y crear un avatar digital que mueva la boca al hablar."
   ]
  },
  {
   "cell_type": "markdown",
   "id": "65027713",
   "metadata": {},
   "source": [
    "## Resemble AI\n",
    "\n",
    "Hablemos sobre clones de voz y Resemble.AI, al que puedes acceder en: https://app.resemble.ai/\n",
    "\n",
    "La idea detrás de este producto es que puedes crear copias de tu voz. Desde la interfaz, puedes ver que ofrece clonación rápida de voz con solo 20 segundos de audio (y funciona bien). \n",
    "\n",
    "Si ingresas, puedes grabarte hablando o clonar tu voz subiendo una muestra. En el caso de la voz personalizada, debes leer 25 frases. Cada vez que lees una, la subes, y así sucesivamente hasta completarlas todas."
   ]
  }
 ],
 "metadata": {
  "kernelspec": {
   "display_name": "Python 3 (ipykernel)",
   "language": "python",
   "name": "python3"
  },
  "language_info": {
   "codemirror_mode": {
    "name": "ipython",
    "version": 3
   },
   "file_extension": ".py",
   "mimetype": "text/x-python",
   "name": "python",
   "nbconvert_exporter": "python",
   "pygments_lexer": "ipython3",
   "version": "3.11.4"
  }
 },
 "nbformat": 4,
 "nbformat_minor": 5
}
