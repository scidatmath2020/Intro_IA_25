{
 "cells": [
  {
   "cell_type": "markdown",
   "id": "3e11aa95",
   "metadata": {},
   "source": [
    "![imagenes](logo.png)"
   ]
  },
  {
   "cell_type": "markdown",
   "id": "823a5f1b",
   "metadata": {},
   "source": [
    "# Introducción\n",
    "\n",
    "El \"GPT\" en ChatGPT significa Generative Pre-trained Transformer (Transformador Generativo Pre-entrenado). De hecho, Google inventó la \"T\" de GPT, es decir, el Transformer. Entonces, la pregunta es: ¿por qué Google no lanzó su propio producto de ingeniería de prompts hace años?\n",
    "\n",
    "La respuesta es el clásico dilema del innovador: porque estas plataformas de IA pueden costar literalmente 100 mil millones de dólares crearlas y son costosas de mantener, por eso pagamos por usar funciones avanzadas de ChatGPT.\n",
    "\n",
    "Algunos analistas de Wall Street estiman que si Google hubiera lanzado un producto similar a ChatGPT hace años, habría perjudicado sus beneficios operativos en unos 30 mil millones de dólares anuales. Finalmente, Google tiene competencia, y sabemos que la competencia es buena para los consumidores.\n",
    "\n",
    "Aprenderemos a usar alternativas a ChatGPT, incluyendo Bing Chat y Google Bard."
   ]
  },
  {
   "cell_type": "markdown",
   "id": "d5f64415",
   "metadata": {},
   "source": [
    "# Bard de Google\n",
    "\n",
    "Cuando OpenAI anunció ChatGPT y su alianza con Microsoft, todos comenzaron a mirar hacia Google y a esperar pacientemente su respuesta. Google estaba preocupado por su dominio en las búsquedas, ya que la aplicación de Bing incluso tuvo más descargas que la de Google en iOS.  \n",
    "\n",
    "Y unos meses después del lanzamiento inicial de ChatGPT a finales de 2022, lo que ocurrió fue que, a principios de 2023, Google presentó su primera versión de un modelo de IA generativa de texto llamado **Bard**.  \n",
    "\n",
    "Bard puede hacer básicamente todo lo que ChatGPT ofrece, aunque no al mismo nivel. Algunas funciones son mejores, y hay muchas otras que aún necesitan mejorar.  \n",
    "\n",
    "Usar Bard tiene sentido si prefieres las políticas de datos de Google o si ya estás utilizando su ecosistema tecnológico, ya que la integración con tus productos será mucho más sencilla si ya inviertes en tecnologías de Google.  \n",
    "\n",
    "| **Bard**                                       | **Gemini**                                                  |\n",
    "|------------------------------------------------|--------------------------------------------------------------|\n",
    "| Fue el **asistente conversacional de Google**  | Es la **familia de modelos de lenguaje de Google DeepMind**  |\n",
    "| Lanzado en 2023 con LaMDA, luego PaLM 2        | Lanzado en diciembre de 2023 como sucesor de LaMDA y PaLM    |\n",
    "| Tenía nombre independiente                     | Es el **modelo que potencia Bard (ahora llamado Gemini)**     |\n",
    "| **Renombrado como Gemini en 2024**             | Tiene versiones: **Nano, Pro y Ultra**, para diferentes usos |\n",
    "| Interfaz de usuario tipo chatbot               | **Motor de IA** que también se usa en Search, Android, Workspace, etc. |\n",
    "\n",
    "\n",
    "Si quieres probar Bard, visita https://bard.Google.com/ y regístrate para probarlo con tu cuenta personal de Gmail. Ten en cuenta que Bard aún no está disponible en todos los países.  \n",
    "\n",
    "Una vez aprobado, desde ese enlace podrás acceder al cuadro de chat y comenzar a utilizar este producto. Después de iniciar sesión, estarás en el panel principal, que se ve muy similar al de ChatGPT, como se muestra en la imagen a continuación. Hay un gran cuadro de texto en el centro y, en el lado izquierdo de la pantalla, verás la configuración y el historial.  \n",
    "\n",
    "<img src=\"im005.png\" style=\"display:block; margin:auto;\">\n"
   ]
  },
  {
   "cell_type": "markdown",
   "id": "260d8260",
   "metadata": {},
   "source": [
    "La parte de los prompts funciona igual que en ChatGPT, así que si ya revisaste los capítulos sobre técnicas de ingeniería de prompts, entonces estás listo para usar Bard.\n",
    "\n",
    "Sin embargo, si comparamos la búsqueda en Bard con ChatGPT, no están al mismo nivel de complejidad."
   ]
  },
  {
   "cell_type": "markdown",
   "id": "fae3b3ec",
   "metadata": {},
   "source": [
    "**Ejemplo 1.** Obtén información sobre las acciones más rentables en los últimos 30 años\n",
    "\n",
    "**Ejemplo 2.** Encuentra artículos sobre redes neuronales convolucionales, proporciona la fuente y resume esos artículos en 3 puntos clave"
   ]
  },
  {
   "cell_type": "markdown",
   "id": "6e9b19cc",
   "metadata": {},
   "source": [
    "**Tarea.** Imagina que quieres crear un blog sobre un tema de tu interés. Copia y pega el siguiente prompt en ChatGPT y en Bard. Compara los resultados: \n",
    "\n",
    "*Dame instrucciones para crear un blog de [tema que elegiste]*"
   ]
  },
  {
   "cell_type": "markdown",
   "id": "2fec4c7c",
   "metadata": {},
   "source": [
    "# Bing de Microsoft\n",
    "\n",
    "Hasta ahora hemos hablado sobre ChatGPT de OpenAI y hemos analizado Bard de Google. Ahora hablemos sobre la solución de Microsoft, Bing, en lo que respecta a su producto competidor de ingeniería de prompts.\n",
    "\n",
    "Microsoft invirtió miles de millones de dólares en OpenAI para apoyar su proceso de investigación y ayudarles con la costosa infraestructura necesaria. A cambio, Microsoft se posicionó a la vanguardia de la innovación en IA y aceleró la mejora de sus productos actuales con soluciones competitivas de inteligencia artificial.\n",
    "\n",
    "La primera y más promocionada solución fue la integración de ChatGPT en el buscador Bing, llamada Bing Chat.\n",
    "\n",
    "| **Bing**                          | **Copilot**                                             |\n",
    "|:----------------------------------:|:----------------------------------------------------------:|\n",
    "| Es un **motor de búsqueda**      | Es un **asistente con IA conversacional**               |\n",
    "| Ofrece resultados tradicionales  | Ofrece respuestas generadas con IA                      |\n",
    "| Se usa para buscar en la web     | Se usa para ayudarte a **hacer tareas**                 |\n",
    "| **Alimenta a Copilot con información en tiempo real** | Copilot **usa Bing** para buscar información fresca, como noticias o precios. |\n",
    "\n",
    "\n",
    "Para entrar a Chat Bing sigue esta liga: https://copilot.microsoft.com/chats/"
   ]
  },
  {
   "cell_type": "markdown",
   "id": "aa241bbe",
   "metadata": {},
   "source": [
    "**Ejemplo 1.** Obtén información sobre las acciones más rentables en los últimos 30 años\n",
    "\n",
    "**Ejemplo 2.** Encuentra artículos sobre redes neuronales convolucionales, proporciona la fuente y resume esos artículos en 3 puntos clave"
   ]
  },
  {
   "cell_type": "markdown",
   "id": "c44c55d3",
   "metadata": {},
   "source": [
    "# 💡 Fortalezas y Debilidades: ChatGPT vs Gemini vs Copilot\n",
    "\n",
    "| **IA**         | **Fortalezas**                                                                 | **Debilidades**                                                                 |\n",
    "|----------------|----------------------------------------------------------------------------------|----------------------------------------------------------------------------------|\n",
    "| **ChatGPT**    | - Muy buena redacción y generación de ideas creativas.                          | - Acceso limitado a información en tiempo real (solo con navegación activada).   |\n",
    "|                | - Interfaz clara, fácil de usar en múltiples plataformas.                       | - Integración limitada con otros servicios sin plugins o API.                    |\n",
    "|                | - Gran comunidad y soporte (especialmente en desarrollo y educación).           | - Memoria de usuario aún en desarrollo para algunos casos.                       |\n",
    "|                | - Modelo GPT-4o con capacidades multimodales (texto, imagen, audio, archivos). |                                                                                  |\n",
    "| **Gemini**     | - Fuerte integración con el ecosistema Google (Docs, Gmail, Android, Drive).    | - Menos documentado y con comunidad más pequeña que ChatGPT.                     |\n",
    "|                | - Muy buen manejo de código, análisis de datos, texto e imágenes.               | - Limitado fuera de Google si no usas sus servicios.                             |\n",
    "|                | - Acceso a información actual a través de Google Search.                        | - Algunas funciones están disponibles solo en inglés o con restricciones por región. |\n",
    "|                | - Interfaz moderna y clara, integrada en productos Google.                      |                                                                                  |\n",
    "| **Copilot**    | - Integración nativa con Word, Excel, Outlook, Teams y Windows.                 | - Dependiente del entorno Microsoft (no tan útil fuera de él).                   |\n",
    "|                | - Ideal para productividad, redacción, automatización de tareas.                | - Multimodalidad limitada según la app (menos flexible que ChatGPT o Gemini).    |\n",
    "|                | - Usa GPT-4 y Bing para actualizarse con información reciente.                  | - No siempre personalizable o explicativo (más directo que conversacional).      |\n",
    "|                | - Contextual: entiende lo que haces en Word, Excel, etc.                        |                                                                                  |\n"
   ]
  },
  {
   "cell_type": "markdown",
   "id": "7b596b1f",
   "metadata": {},
   "source": [
    "# Ejercicio: ¿Qué IA elegirías?  \n",
    "\n",
    "Lee cada situación planteada y responde:\n",
    "\n",
    "---\n",
    "\n",
    "## 📚 Escenarios\n",
    "\n",
    "### 1. Redacción académica\n",
    "Estás escribiendo un ensayo en Word y necesitas ayuda con la estructura, ortografía y estilo formal.\n",
    "\n",
    "> ✍️ **¿Qué IA elegirías?**  \n",
    "> ✏️ Justificación:  \n",
    "> ⚠️ Posibles limitaciones:  \n",
    "\n",
    "---\n",
    "\n",
    "### 2. Planificación de viajes\n",
    "Vas a organizar un viaje por Florida y quieres encontrar vuelos, sugerencias de rutas, clima y actividades.\n",
    "\n",
    "> ✍️ **¿Qué IA elegirías?**  \n",
    "> ✏️ Justificación:  \n",
    "> ⚠️ Posibles limitaciones:  \n",
    "\n",
    "---\n",
    "\n",
    "### 3. Resolución de ejercicios matemáticos con gráficos\n",
    "Necesitas resolver y visualizar funciones cuadráticas con ejemplos explicados paso a paso.\n",
    "\n",
    "> ✍️ **¿Qué IA elegirías?**  \n",
    "> ✏️ Justificación:  \n",
    "> ⚠️ Posibles limitaciones:  \n",
    "\n",
    "---\n",
    "\n",
    "### 4. Búsqueda de información actual\n",
    "Te piden hacer un resumen sobre una noticia científica publicada esta semana.\n",
    "\n",
    "> ✍️ **¿Qué IA elegirías?**  \n",
    "> ✏️ Justificación:  \n",
    "> ⚠️ Posibles limitaciones:  \n",
    "\n",
    "---\n",
    "\n",
    "### 5. Automatización de tareas\n",
    "Quieres que la IA cree una tabla en Excel a partir de un archivo de texto con nombres y fechas.\n",
    "\n",
    "> ✍️ **¿Qué IA elegirías?**  \n",
    "> ✏️ Justificación:  \n",
    "> ⚠️ Posibles limitaciones:  \n",
    "\n",
    "---\n",
    "\n",
    "## 🧠 Pregunta final de reflexión\n",
    "\n",
    "> ¿Cuál de las tres IAs consideras más útil para tu día a día como estudiante o profesional?  \n",
    "> ¿Cambiaría tu respuesta si te cambiaras de entorno (ej. usar Google en lugar de Windows)?\n",
    "\n",
    "---\n",
    "\n"
   ]
  }
 ],
 "metadata": {
  "kernelspec": {
   "display_name": "Python 3 (ipykernel)",
   "language": "python",
   "name": "python3"
  },
  "language_info": {
   "codemirror_mode": {
    "name": "ipython",
    "version": 3
   },
   "file_extension": ".py",
   "mimetype": "text/x-python",
   "name": "python",
   "nbconvert_exporter": "python",
   "pygments_lexer": "ipython3",
   "version": "3.11.4"
  }
 },
 "nbformat": 4,
 "nbformat_minor": 5
}
